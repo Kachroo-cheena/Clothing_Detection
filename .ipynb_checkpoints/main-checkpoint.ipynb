{
 "cells": [
  {
   "cell_type": "code",
   "execution_count": 2,
   "metadata": {
    "execution": {
     "iopub.execute_input": "2022-08-17T18:21:49.225002Z",
     "iopub.status.busy": "2022-08-17T18:21:49.224556Z",
     "iopub.status.idle": "2022-08-17T18:21:49.256318Z",
     "shell.execute_reply": "2022-08-17T18:21:49.255420Z",
     "shell.execute_reply.started": "2022-08-17T18:21:49.224960Z"
    }
   },
   "outputs": [],
   "source": [
    "from fastai.vision.all import *\n",
    "from fastai.vision.widgets import *"
   ]
  },
  {
   "cell_type": "code",
   "execution_count": null,
   "metadata": {},
   "outputs": [],
   "source": [
    "df = pd.read_csv('images.csv')"
   ]
  },
  {
   "cell_type": "code",
   "execution_count": 3,
   "metadata": {
    "execution": {
     "iopub.execute_input": "2022-08-17T18:21:52.328018Z",
     "iopub.status.busy": "2022-08-17T18:21:52.327607Z",
     "iopub.status.idle": "2022-08-17T18:21:52.352673Z",
     "shell.execute_reply": "2022-08-17T18:21:52.351523Z",
     "shell.execute_reply.started": "2022-08-17T18:21:52.327980Z"
    }
   },
   "outputs": [],
   "source": [
    "df.head()"
   ]
  },
  {
   "cell_type": "code",
   "execution_count": 6,
   "metadata": {
    "execution": {
     "iopub.execute_input": "2022-08-17T18:22:03.860181Z",
     "iopub.status.busy": "2022-08-17T18:22:03.859760Z",
     "iopub.status.idle": "2022-08-17T18:22:03.870573Z",
     "shell.execute_reply": "2022-08-17T18:22:03.869515Z",
     "shell.execute_reply.started": "2022-08-17T18:22:03.860146Z"
    }
   },
   "outputs": [],
   "source": [
    "df['image'] = df['image'] + '.jpg'"
   ]
  },
  {
   "cell_type": "markdown",
   "metadata": {},
   "source": [
    "Keep only the images and their labels for the model to process."
   ]
  },
  {
   "cell_type": "code",
   "execution_count": 8,
   "metadata": {
    "execution": {
     "iopub.execute_input": "2022-08-17T18:22:35.003807Z",
     "iopub.status.busy": "2022-08-17T18:22:35.003363Z",
     "iopub.status.idle": "2022-08-17T18:22:35.013995Z",
     "shell.execute_reply": "2022-08-17T18:22:35.012821Z",
     "shell.execute_reply.started": "2022-08-17T18:22:35.003765Z"
    }
   },
   "outputs": [],
   "source": [
    "main_df = df[['image', 'label']]"
   ]
  },
  {
   "cell_type": "code",
   "execution_count": 9,
   "metadata": {
    "execution": {
     "iopub.execute_input": "2022-08-17T18:22:47.135804Z",
     "iopub.status.busy": "2022-08-17T18:22:47.135055Z",
     "iopub.status.idle": "2022-08-17T18:22:47.141253Z",
     "shell.execute_reply": "2022-08-17T18:22:47.140208Z",
     "shell.execute_reply.started": "2022-08-17T18:22:47.135760Z"
    }
   },
   "outputs": [],
   "source": [
    "path = 'clothing-dataset'\n",
    "def get_image(r): \n",
    "    temp = path+'/images/'+r['image']\n",
    "    return  temp\n",
    "def get_label(r): \n",
    "    return r['label']"
   ]
  },
  {
   "cell_type": "code",
   "execution_count": 10,
   "metadata": {
    "execution": {
     "iopub.execute_input": "2022-08-17T18:22:48.729045Z",
     "iopub.status.busy": "2022-08-17T18:22:48.728651Z",
     "iopub.status.idle": "2022-08-17T18:22:49.881931Z",
     "shell.execute_reply": "2022-08-17T18:22:49.880735Z",
     "shell.execute_reply.started": "2022-08-17T18:22:48.729010Z"
    }
   },
   "outputs": [],
   "source": [
    "dblock = DataBlock(blocks = (ImageBlock, MultiCategoryBlock),\n",
    "                  get_x = get_x, get_y = get_y,\n",
    "                  item_tfms = RandomResizedCrop(256, min_scale=0.4)) \n",
    "dls = dblock.dataloaders(label_df) "
   ]
  },
  {
   "cell_type": "code",
   "execution_count": 1,
   "metadata": {
    "execution": {
     "iopub.execute_input": "2022-08-17T18:23:24.449851Z",
     "iopub.status.busy": "2022-08-17T18:23:24.449094Z"
    },
    "scrolled": true
   },
   "outputs": [
    {
     "ename": "NameError",
     "evalue": "name 'cnn_learner' is not defined",
     "output_type": "error",
     "traceback": [
      "\u001b[0;31m------------------------------------------------------------\u001b[0m",
      "\u001b[0;31mNameError\u001b[0m                  Traceback (most recent call last)",
      "\u001b[0;32m<ipython-input-1-742394486607>\u001b[0m in \u001b[0;36m<module>\u001b[0;34m\u001b[0m\n\u001b[0;32m----> 1\u001b[0;31m \u001b[0mlearn\u001b[0m \u001b[0;34m=\u001b[0m \u001b[0mcnn_learner\u001b[0m\u001b[0;34m(\u001b[0m\u001b[0mdls\u001b[0m\u001b[0;34m,\u001b[0m \u001b[0mresnet18\u001b[0m\u001b[0;34m,\u001b[0m \u001b[0mmetrics\u001b[0m\u001b[0;34m=\u001b[0m\u001b[0mpartial\u001b[0m\u001b[0;34m(\u001b[0m\u001b[0maccuracy_multi\u001b[0m\u001b[0;34m,\u001b[0m \u001b[0mthresh\u001b[0m\u001b[0;34m=\u001b[0m\u001b[0;36m0.2\u001b[0m\u001b[0;34m)\u001b[0m\u001b[0;34m)\u001b[0m\u001b[0;34m\u001b[0m\u001b[0;34m\u001b[0m\u001b[0m\n\u001b[0m\u001b[1;32m      2\u001b[0m \u001b[0mlearn\u001b[0m\u001b[0;34m.\u001b[0m\u001b[0mfine_tune\u001b[0m\u001b[0;34m(\u001b[0m\u001b[0;36m6\u001b[0m\u001b[0;34m,\u001b[0m \u001b[0mbase_lr\u001b[0m\u001b[0;34m=\u001b[0m\u001b[0;36m3e-3\u001b[0m\u001b[0;34m)\u001b[0m\u001b[0;34m\u001b[0m\u001b[0;34m\u001b[0m\u001b[0m\n",
      "\u001b[0;31mNameError\u001b[0m: name 'cnn_learner' is not defined"
     ]
    }
   ],
   "source": [
    "learn = cnn_learner(dls, resnet18, metrics=partial(accuracy_multi, thresh=0.2))\n",
    "learn.fine_tune(6, base_lr=3e-3)"
   ]
  },
  {
   "cell_type": "code",
   "execution_count": null,
   "metadata": {},
   "outputs": [],
   "source": [
    "upload = widgets.FileUpload()\n",
    "out_image = widgets.Output()\n",
    "prediction = widgets.Label()\n",
    "run = widgets.Button(description='Classify')"
   ]
  },
  {
   "cell_type": "code",
   "execution_count": null,
   "metadata": {},
   "outputs": [],
   "source": [
    "TEST_IMAGE = \"image.jpeg\"\n",
    "img = PILImage.create(TEST_IMAGE)\n",
    "out_image.clear_output()\n",
    "with out_image: display(img.to_thumb(128,128))\n",
    "pred,pred_idx,probs = learn.predict(img)\n",
    "pred0 = pred[0]\n",
    "pred1 = pred[1]\n",
    "if pred0=='False':\n",
    "    prediction.value = f'This is a {pred1} for adults.'\n",
    "else:\n",
    "    prediction.value = f'This is a {pred1} for kids.'\n",
    "\n"
   ]
  }
 ],
 "metadata": {
  "kernelspec": {
   "display_name": "Python 3",
   "language": "python",
   "name": "python3"
  },
  "language_info": {
   "codemirror_mode": {
    "name": "ipython",
    "version": 3
   },
   "file_extension": ".py",
   "mimetype": "text/x-python",
   "name": "python",
   "nbconvert_exporter": "python",
   "pygments_lexer": "ipython3",
   "version": "3.6.9"
  }
 },
 "nbformat": 4,
 "nbformat_minor": 4
}
